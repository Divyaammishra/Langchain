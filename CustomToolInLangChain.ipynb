{
  "nbformat": 4,
  "nbformat_minor": 0,
  "metadata": {
    "colab": {
      "provenance": [],
      "authorship_tag": "ABX9TyMWxkQI84XO2pm/H47kJRGc"
    },
    "kernelspec": {
      "name": "python3",
      "display_name": "Python 3"
    },
    "language_info": {
      "name": "python"
    }
  },
  "cells": [
    {
      "cell_type": "markdown",
      "source": [
        "**BuILD CUSTOM TOOL IN LANGCHAIN**"
      ],
      "metadata": {
        "id": "C-eEhXh-fxiB"
      }
    },
    {
      "cell_type": "code",
      "source": [
        "pip install langchain langchain-community pydantic"
      ],
      "metadata": {
        "id": "w0c9COBgipqO"
      },
      "execution_count": null,
      "outputs": []
    },
    {
      "cell_type": "markdown",
      "source": [
        "**First Way: Using @tool Decorator**"
      ],
      "metadata": {
        "id": "QZG650ZDlZKS"
      }
    },
    {
      "cell_type": "code",
      "source": [
        "from langchain_community.tools import tool"
      ],
      "metadata": {
        "id": "iESW9s-DYAXc"
      },
      "execution_count": 10,
      "outputs": []
    },
    {
      "cell_type": "markdown",
      "source": [
        "Step1 - Create a function"
      ],
      "metadata": {
        "id": "73S20n5kcn0m"
      }
    },
    {
      "cell_type": "code",
      "source": [
        "def multiply(a, b):\n",
        "  \"\"\"Multiplying Two Numbers\"\"\"\n",
        "  return a*b"
      ],
      "metadata": {
        "id": "xfDZDqqKcsxP"
      },
      "execution_count": 11,
      "outputs": []
    },
    {
      "cell_type": "markdown",
      "source": [
        "Step2 - Add Type Hint"
      ],
      "metadata": {
        "id": "I8-UVorSdPfR"
      }
    },
    {
      "cell_type": "code",
      "source": [
        "def multiply(a: int, b:int) -> int:\n",
        "  \"\"\"\"\"Multiplying Two Numbers\"\"\"\n",
        "  return a*b"
      ],
      "metadata": {
        "id": "SIRhUNNgdL5Q"
      },
      "execution_count": 12,
      "outputs": []
    },
    {
      "cell_type": "markdown",
      "source": [
        "Step3- Add Tool Decorator"
      ],
      "metadata": {
        "id": "hhHuoUY3dgFE"
      }
    },
    {
      "cell_type": "code",
      "source": [
        "@tool\n",
        "def multiply(a: int, b:int) -> int:\n",
        "  \"\"\"\"\"Multiplying Two Numbers\"\"\"\n",
        "  return a*b"
      ],
      "metadata": {
        "id": "ZEMxRu8tdju-"
      },
      "execution_count": 13,
      "outputs": []
    },
    {
      "cell_type": "code",
      "source": [
        "result = multiply.invoke({\"a\":3, \"b\":20})"
      ],
      "metadata": {
        "id": "uO1dk5tEdu7T"
      },
      "execution_count": 14,
      "outputs": []
    },
    {
      "cell_type": "code",
      "source": [
        "print(result)"
      ],
      "metadata": {
        "colab": {
          "base_uri": "https://localhost:8080/"
        },
        "id": "iEm2_l9xd9Sy",
        "outputId": "d6b7bc01-6e85-4d66-e5c2-47f8773cf206"
      },
      "execution_count": 15,
      "outputs": [
        {
          "output_type": "stream",
          "name": "stdout",
          "text": [
            "60\n"
          ]
        }
      ]
    },
    {
      "cell_type": "code",
      "source": [
        "print(\"Name:\", multiply.name)\n",
        "print(\"Desription:\", multiply.description)\n",
        "print(\"Argument:\", multiply.args)"
      ],
      "metadata": {
        "colab": {
          "base_uri": "https://localhost:8080/"
        },
        "id": "Fe7q-YOXeNkC",
        "outputId": "4fe5e9e5-dc76-4866-fa03-f64eeead58f8"
      },
      "execution_count": 23,
      "outputs": [
        {
          "output_type": "stream",
          "name": "stdout",
          "text": [
            "Name: multiply\n",
            "Desription: \"\"Multiplying Two Numbers\n",
            "Argument: {'a': {'title': 'A', 'type': 'integer'}, 'b': {'title': 'B', 'type': 'integer'}}\n"
          ]
        }
      ]
    },
    {
      "cell_type": "markdown",
      "source": [
        "What LLM see when you send this tool to LLM"
      ],
      "metadata": {
        "id": "_vyb51ckfRH2"
      }
    },
    {
      "cell_type": "code",
      "source": [
        "print(multiply.args_schema.model_json_schema())"
      ],
      "metadata": {
        "colab": {
          "base_uri": "https://localhost:8080/"
        },
        "id": "vCUzXCfieWSz",
        "outputId": "635e4760-5ac8-455f-b077-f5a0cf8242da"
      },
      "execution_count": 25,
      "outputs": [
        {
          "output_type": "stream",
          "name": "stdout",
          "text": [
            "{'description': '\"\"Multiplying Two Numbers', 'properties': {'a': {'title': 'A', 'type': 'integer'}, 'b': {'title': 'B', 'type': 'integer'}}, 'required': ['a', 'b'], 'title': 'multiply', 'type': 'object'}\n"
          ]
        }
      ]
    },
    {
      "cell_type": "markdown",
      "source": [
        "**Second Way: Using StructuredTool and Pydantic**"
      ],
      "metadata": {
        "id": "U6vuAdhflvaj"
      }
    },
    {
      "cell_type": "code",
      "source": [
        "from langchain.tools import StructuredTool\n",
        "from pydantic import BaseModel, Field"
      ],
      "metadata": {
        "id": "cVpc2bGcl3-R"
      },
      "execution_count": 26,
      "outputs": []
    },
    {
      "cell_type": "code",
      "source": [
        "class MultiplyInput(BaseModel):\n",
        "  a: int = Field(required=True, description=\"First Number\")\n",
        "  b: int = Field(required=True, description=\"Second Number\")"
      ],
      "metadata": {
        "id": "TQ2BBCPomjIJ"
      },
      "execution_count": 27,
      "outputs": []
    },
    {
      "cell_type": "code",
      "source": [
        "def multiply_func(a: int, b:int) -> int:\n",
        "  return a * b"
      ],
      "metadata": {
        "id": "sBOZJB9qm2dn"
      },
      "execution_count": 28,
      "outputs": []
    },
    {
      "cell_type": "code",
      "source": [
        "multiply_tool = StructuredTool.from_function(\n",
        "    func=multiply_func,\n",
        "    name=\"Multiply\",\n",
        "    description=\"Multiply two numbers\",\n",
        "    args_schema=MultiplyInput\n",
        ")"
      ],
      "metadata": {
        "id": "ZSN3BpOtnHbG"
      },
      "execution_count": 29,
      "outputs": []
    },
    {
      "cell_type": "code",
      "source": [
        "result = multiply_tool.invoke({\"a\":3, \"b\":20})\n",
        "\n",
        "print(\"result:\", result)\n",
        "print(\"name:\", multiply_tool.name)\n",
        "print(\"description:\", multiply_tool.description)\n",
        "print(\"argument:\", multiply_tool.args)"
      ],
      "metadata": {
        "colab": {
          "base_uri": "https://localhost:8080/"
        },
        "id": "Gi94qhsJnV-E",
        "outputId": "44c1cc74-f678-4c12-d03c-53107d6517c8"
      },
      "execution_count": 30,
      "outputs": [
        {
          "output_type": "stream",
          "name": "stdout",
          "text": [
            "result: 60\n",
            "name: Multiply\n",
            "description: Multiply two numbers\n",
            "argument: {'a': {'description': 'First Number', 'required': True, 'title': 'A', 'type': 'integer'}, 'b': {'description': 'Second Number', 'required': True, 'title': 'B', 'type': 'integer'}}\n"
          ]
        }
      ]
    },
    {
      "cell_type": "markdown",
      "source": [
        "**Third Way- Using Base Tool Class**"
      ],
      "metadata": {
        "id": "qEjWjyaFn3pf"
      }
    },
    {
      "cell_type": "code",
      "source": [
        "from langchain.tools import BaseTool\n",
        "from typing import Type"
      ],
      "metadata": {
        "id": "_a_43XgIn8sn"
      },
      "execution_count": 31,
      "outputs": []
    },
    {
      "cell_type": "markdown",
      "source": [
        "Argument Schema using pydantic"
      ],
      "metadata": {
        "id": "W9230cmooh2u"
      }
    },
    {
      "cell_type": "code",
      "source": [
        "class MultiplyInput(BaseModel):\n",
        "  a: int = Field(required=True, description=\"First Number\")\n",
        "  b: int = Field(required=True, description=\"Second Number\")"
      ],
      "metadata": {
        "id": "N5vjp3xMofRQ"
      },
      "execution_count": 32,
      "outputs": []
    },
    {
      "cell_type": "code",
      "source": [
        "class MultiplyTool(BaseTool):\n",
        "  name: str = \"multiply\"\n",
        "  description: str = \"Multiply two numbers\"\n",
        "\n",
        "  args_schema: Type[BaseModel] = MultiplyInput\n",
        "\n",
        "  def _run(self, a: int, b: int) -> int:\n",
        "    return a * b"
      ],
      "metadata": {
        "id": "jyRQe6EDouWD"
      },
      "execution_count": 33,
      "outputs": []
    },
    {
      "cell_type": "code",
      "source": [
        "multiply_tool = MultiplyTool()"
      ],
      "metadata": {
        "id": "GgaB0dQbpBnV"
      },
      "execution_count": 34,
      "outputs": []
    },
    {
      "cell_type": "code",
      "source": [
        "result = multiply_tool.invoke({\"a\":3, \"b\":20})\n",
        "\n",
        "print(\"result:\", result)\n",
        "print(\"name:\", multiply_tool.name)\n",
        "print(\"description:\", multiply_tool.description)\n",
        "print(\"argument:\", multiply_tool.args)"
      ],
      "metadata": {
        "colab": {
          "base_uri": "https://localhost:8080/"
        },
        "id": "qZRRuMl2pLLA",
        "outputId": "3b9f51d4-affa-4221-f2b6-08ad5ab3d714"
      },
      "execution_count": 35,
      "outputs": [
        {
          "output_type": "stream",
          "name": "stdout",
          "text": [
            "result: 60\n",
            "name: multiply\n",
            "description: Multiply two numbers\n",
            "argument: {'a': {'description': 'First Number', 'required': True, 'title': 'A', 'type': 'integer'}, 'b': {'description': 'Second Number', 'required': True, 'title': 'B', 'type': 'integer'}}\n"
          ]
        }
      ]
    }
  ]
}