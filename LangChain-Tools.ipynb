{
  "nbformat": 4,
  "nbformat_minor": 0,
  "metadata": {
    "colab": {
      "provenance": [],
      "authorship_tag": "ABX9TyMDBJl8Zu5XaTb+1oEdYM/R"
    },
    "kernelspec": {
      "name": "python3",
      "display_name": "Python 3"
    },
    "language_info": {
      "name": "python"
    }
  },
  "cells": [
    {
      "cell_type": "markdown",
      "source": [],
      "metadata": {
        "id": "C-eEhXh-fxiB"
      }
    },
    {
      "cell_type": "code",
      "source": [
        "pip install langchain langchain-core langchain-community pydantic duckduckgo-search langchain-experimental"
      ],
      "metadata": {
        "id": "w0c9COBgipqO"
      },
      "execution_count": null,
      "outputs": []
    },
    {
      "cell_type": "code",
      "metadata": {
        "id": "91b556e3"
      },
      "source": [
        "%pip install -U ddgs"
      ],
      "execution_count": null,
      "outputs": []
    },
    {
      "cell_type": "markdown",
      "source": [
        "**BUILT-IN-TOOL**"
      ],
      "metadata": {
        "id": "O6cpX9KBXoQA"
      }
    },
    {
      "cell_type": "markdown",
      "source": [
        "DuckDuckGo Search"
      ],
      "metadata": {
        "id": "zNJ4U5X3X22V"
      }
    },
    {
      "cell_type": "code",
      "source": [
        "from langchain_community.tools import DuckDuckGoSearchRun\n",
        "\n",
        "search = DuckDuckGoSearchRun()\n",
        "\n",
        "result = search.invoke('ASIA CUP NEWS')\n",
        "\n",
        "print(result)"
      ],
      "metadata": {
        "id": "iESW9s-DYAXc"
      },
      "execution_count": null,
      "outputs": []
    },
    {
      "cell_type": "markdown",
      "source": [
        "Shell Tool"
      ],
      "metadata": {
        "id": "Xp6ODzt1Z3Rr"
      }
    },
    {
      "cell_type": "code",
      "source": [
        "from langchain_community.tools import ShellTool\n",
        "\n",
        "shell_tool = ShellTool()\n",
        "\n",
        "result = shell_tool.invoke('whoami')\n",
        "\n",
        "print(result)"
      ],
      "metadata": {
        "id": "EMxH44tXZ2jG"
      },
      "execution_count": null,
      "outputs": []
    },
    {
      "cell_type": "markdown",
      "source": [],
      "metadata": {
        "id": "maD-UPqUbCPT"
      }
    }
  ]
}