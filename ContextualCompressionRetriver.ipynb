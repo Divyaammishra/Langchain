{
  "nbformat": 4,
  "nbformat_minor": 0,
  "metadata": {
    "colab": {
      "provenance": [],
      "authorship_tag": "ABX9TyOUrIJynbyM+e2/0NYnFygC"
    },
    "kernelspec": {
      "name": "python3",
      "display_name": "Python 3"
    },
    "language_info": {
      "name": "python"
    }
  },
  "cells": [
    {
      "cell_type": "markdown",
      "source": [
        "Contextual Compression Retrivers"
      ],
      "metadata": {
        "id": "iC8M2hYglcPF"
      }
    },
    {
      "cell_type": "code",
      "source": [
        "from google.colab import userdata\n",
        "import os\n",
        "\n",
        "os.environ[\"GROQ_API_KEY\"] = userdata.get('GROQ_API_KEY')"
      ],
      "metadata": {
        "id": "T1plHuDt1Gat"
      },
      "execution_count": 9,
      "outputs": []
    },
    {
      "cell_type": "code",
      "source": [
        "pip install langchain-community langchain-huggingface faiss-cpu langchain-groq"
      ],
      "metadata": {
        "id": "ATGo4RQPmlWr"
      },
      "execution_count": null,
      "outputs": []
    },
    {
      "cell_type": "code",
      "source": [
        "from langchain_community.vectorstores import FAISS\n",
        "from langchain_huggingface import HuggingFaceEmbeddings\n",
        "from langchain_groq import ChatGroq\n",
        "from langchain.retrievers.contextual_compression import ContextualCompressionRetriever\n",
        "from langchain.retrievers.document_compressors import LLMChainExtractor\n",
        "from langchain_core.documents import Document\n",
        "import os"
      ],
      "metadata": {
        "id": "gHDZ376XlVDc"
      },
      "execution_count": 19,
      "outputs": []
    },
    {
      "cell_type": "code",
      "source": [
        "docs = [\n",
        "    Document(page_content=(\n",
        "    \"\"\"The Grand Canyon is one of the most visited natural wonders in the world.\n",
        "    Photosynthesis is the process by which green plants converts sunlight into energy.\n",
        "    Millions of tourists travel to seet it every year. The rocks data millions of year.\"\"\"\n",
        "    ), metadata={\"source\": \"Doc1\"}),\n",
        "\n",
        "    Document(page_content=(\n",
        "    \"\"\"In medieval europe, castles were built primarily for defense.\n",
        "    The chlorophyll in plant cells captures sunlight during photosynthesis.\n",
        "    Knight wore armor of metal. Siege weapons were often used to bveeach castle walls.\"\"\"\n",
        "    ), metadata={\"source\": \"Doc2\"})\n",
        "]"
      ],
      "metadata": {
        "id": "WIhnV6bACNV7"
      },
      "execution_count": 22,
      "outputs": []
    },
    {
      "cell_type": "code",
      "source": [
        "EmbeddingModels = HuggingFaceEmbeddings(model_name=\"sentence-transformers/all-MiniLM-L6-v2\")\n",
        "\n",
        "vectorstores = FAISS.from_documents(docs, EmbeddingModels)"
      ],
      "metadata": {
        "id": "_sE0mLqkEfb0"
      },
      "execution_count": 23,
      "outputs": []
    },
    {
      "cell_type": "code",
      "source": [
        "base_retriever = vectorstores.as_retriever(search_kwargs={\"k\": 2})"
      ],
      "metadata": {
        "id": "-jvZCbpfEvkN"
      },
      "execution_count": 24,
      "outputs": []
    },
    {
      "cell_type": "code",
      "source": [
        "llm = ChatGroq(\n",
        "    api_key=os.getenv(\"GROQ_API_KEY\"),\n",
        "    model=\"llama-3.1-8b-instant\"\n",
        ")\n",
        "\n",
        "compressor = LLMChainExtractor.from_llm(llm)"
      ],
      "metadata": {
        "id": "T1blIalOE-kW"
      },
      "execution_count": 25,
      "outputs": []
    },
    {
      "cell_type": "code",
      "source": [
        "compression_retriever = ContextualCompressionRetriever(\n",
        "    base_compressor=compressor,\n",
        "    base_retriever=base_retriever\n",
        ")"
      ],
      "metadata": {
        "id": "c-hXCztsFNgT"
      },
      "execution_count": 26,
      "outputs": []
    },
    {
      "cell_type": "code",
      "source": [
        "query = \"What is photosynthesis?\"\n",
        "compressed_docs = compression_retriever.invoke(query)\n"
      ],
      "metadata": {
        "colab": {
          "base_uri": "https://localhost:8080/"
        },
        "id": "hp9TdXIWFYHG",
        "outputId": "92d779df-d49d-4e28-e9ed-4bdbc26835be"
      },
      "execution_count": 27,
      "outputs": [
        {
          "output_type": "stream",
          "name": "stdout",
          "text": [
            "[Document(metadata={'source': 'Doc1'}, page_content='Photosynthesis is the process by which green plants converts sunlight into energy.'), Document(metadata={'source': 'Doc2'}, page_content='The chlorophyll in plant cells captures sunlight during photosynthesis.')]\n"
          ]
        }
      ]
    },
    {
      "cell_type": "code",
      "source": [
        "for i, doc in enumerate(compressed_docs):\n",
        "  print(f\"\\n--- result {i+1}---\")\n",
        "  print(doc.page_content)"
      ],
      "metadata": {
        "colab": {
          "base_uri": "https://localhost:8080/"
        },
        "id": "G57G2vkOFm8A",
        "outputId": "1145005c-d6e1-4fc6-fb71-4425c3f5b315"
      },
      "execution_count": 29,
      "outputs": [
        {
          "output_type": "stream",
          "name": "stdout",
          "text": [
            "\n",
            "--- result 1---\n",
            "Photosynthesis is the process by which green plants converts sunlight into energy.\n",
            "\n",
            "--- result 2---\n",
            "The chlorophyll in plant cells captures sunlight during photosynthesis.\n"
          ]
        }
      ]
    }
  ]
}