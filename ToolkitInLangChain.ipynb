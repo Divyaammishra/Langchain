{
  "nbformat": 4,
  "nbformat_minor": 0,
  "metadata": {
    "colab": {
      "provenance": [],
      "authorship_tag": "ABX9TyNaU8ol20ORL00bbrS7UXB0"
    },
    "kernelspec": {
      "name": "python3",
      "display_name": "Python 3"
    },
    "language_info": {
      "name": "python"
    }
  },
  "cells": [
    {
      "cell_type": "markdown",
      "source": [
        "**TOOLKIT**"
      ],
      "metadata": {
        "id": "C-eEhXh-fxiB"
      }
    },
    {
      "cell_type": "markdown",
      "source": [
        "A toolkit is just a collection of related tools that serve a common purpose packaged together for convenience and  reusability."
      ],
      "metadata": {
        "id": "GiINGR5mrIVO"
      }
    },
    {
      "cell_type": "code",
      "source": [
        "pip install langchain"
      ],
      "metadata": {
        "id": "w0c9COBgipqO"
      },
      "execution_count": null,
      "outputs": []
    },
    {
      "cell_type": "code",
      "source": [
        "from langchain_core.tools import tool"
      ],
      "metadata": {
        "id": "iESW9s-DYAXc"
      },
      "execution_count": 36,
      "outputs": []
    },
    {
      "cell_type": "markdown",
      "source": [
        "Creating two custom tool\n"
      ],
      "metadata": {
        "id": "73S20n5kcn0m"
      }
    },
    {
      "cell_type": "code",
      "source": [
        "@tool\n",
        "def add(a: int, b: int) -> int:\n",
        "  \"\"\"Add two numbers\"\"\"\n",
        "  return a + b\n",
        "\n",
        "@tool\n",
        "def multiply(a: int, b: int) -> int:\n",
        "  \"\"\"Multiplt two number\"\"\"\n",
        "  return a * b"
      ],
      "metadata": {
        "id": "xfDZDqqKcsxP"
      },
      "execution_count": 38,
      "outputs": []
    },
    {
      "cell_type": "markdown",
      "source": [
        "Integrating them in one"
      ],
      "metadata": {
        "id": "EX7Rm0Vmtr6X"
      }
    },
    {
      "cell_type": "code",
      "source": [
        "class MathToolkit:\n",
        "  def get_tools(self):\n",
        "    return [add, multiply]"
      ],
      "metadata": {
        "id": "HVcbzXTfsmnd"
      },
      "execution_count": 40,
      "outputs": []
    },
    {
      "cell_type": "code",
      "source": [
        "toolkit = MathToolkit()\n",
        "tools = toolkit.get_tools()\n",
        "\n",
        "for tool in tools:\n",
        "  print(tool.name, \"=>\", tool.description)\n"
      ],
      "metadata": {
        "colab": {
          "base_uri": "https://localhost:8080/"
        },
        "id": "Kd5tMpdJs1dZ",
        "outputId": "7f153987-773a-47ce-b06b-ce49109011e4"
      },
      "execution_count": 43,
      "outputs": [
        {
          "output_type": "stream",
          "name": "stdout",
          "text": [
            "add => Add two numbers\n",
            "multiply => Multiplt two number\n"
          ]
        }
      ]
    }
  ]
}