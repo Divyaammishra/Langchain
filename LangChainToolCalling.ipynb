{
  "nbformat": 4,
  "nbformat_minor": 0,
  "metadata": {
    "colab": {
      "provenance": [],
      "authorship_tag": "ABX9TyOHYaEl6Akau5iOwi/r3VuK"
    },
    "kernelspec": {
      "name": "python3",
      "display_name": "Python 3"
    },
    "language_info": {
      "name": "python"
    }
  },
  "cells": [
    {
      "cell_type": "markdown",
      "source": [
        "**TOOL BINDING**"
      ],
      "metadata": {
        "id": "C-eEhXh-fxiB"
      }
    },
    {
      "cell_type": "code",
      "source": [
        "pip install -q langchain-core langchain-groq requests python-dotenv"
      ],
      "metadata": {
        "id": "w0c9COBgipqO"
      },
      "execution_count": 49,
      "outputs": []
    },
    {
      "cell_type": "code",
      "source": [
        "import os\n",
        "from dotenv import load_dotenv\n",
        "from langchain_groq import ChatGroq\n",
        "from langchain_core.tools import tool\n",
        "from langchain_core.messages import HumanMessage\n",
        "import requests"
      ],
      "metadata": {
        "id": "C1vuL03i9DXF"
      },
      "execution_count": 52,
      "outputs": []
    },
    {
      "cell_type": "markdown",
      "source": [
        "Building Tool"
      ],
      "metadata": {
        "id": "FDsIfR7mHrSt"
      }
    },
    {
      "cell_type": "code",
      "source": [
        "@tool\n",
        "def multiply(a: int, b: int) -> int:\n",
        "  \"\"\"This tool returns the product of given number a & b\"\"\"\n",
        "  return a * b"
      ],
      "metadata": {
        "id": "HlfkY-fV9aMD"
      },
      "execution_count": 46,
      "outputs": []
    },
    {
      "cell_type": "code",
      "source": [
        "print(multiply.invoke({'a':3, 'b':4}))"
      ],
      "metadata": {
        "colab": {
          "base_uri": "https://localhost:8080/"
        },
        "id": "z3x2Zn3L-IpO",
        "outputId": "4b1f6911-8046-4231-d65b-e3132d54c27b"
      },
      "execution_count": 47,
      "outputs": [
        {
          "output_type": "stream",
          "name": "stdout",
          "text": [
            "12\n"
          ]
        }
      ]
    },
    {
      "cell_type": "markdown",
      "source": [
        "Binding"
      ],
      "metadata": {
        "id": "AJ8D2F44-s_1"
      }
    },
    {
      "cell_type": "code",
      "source": [
        "from google.colab import userdata\n",
        "\n",
        "llm = ChatGroq(\n",
        "    api_key=userdata.get(\"GROQ_API_KEY\"),\n",
        "    model=\"llama-3.1-8b-instant\"\n",
        ")"
      ],
      "metadata": {
        "id": "4aIw1ZcO-kPH"
      },
      "execution_count": 56,
      "outputs": []
    },
    {
      "cell_type": "code",
      "source": [
        "llm_with_tools = llm.bind_tools([multiply])"
      ],
      "metadata": {
        "id": "SQj3SRhoHPtH"
      },
      "execution_count": 58,
      "outputs": []
    },
    {
      "cell_type": "markdown",
      "source": [
        "Tool Calling"
      ],
      "metadata": {
        "id": "T80cSINZJtnE"
      }
    },
    {
      "cell_type": "code",
      "source": [
        "result = llm_with_tools.invoke(\"What is 3 times 4?\")"
      ],
      "metadata": {
        "id": "mg9mAmjgHhhj"
      },
      "execution_count": 72,
      "outputs": []
    },
    {
      "cell_type": "code",
      "source": [
        "op = result.tool_calls[0]"
      ],
      "metadata": {
        "id": "iFUjWiKGKH94"
      },
      "execution_count": 71,
      "outputs": []
    },
    {
      "cell_type": "markdown",
      "source": [
        "Tool Execution"
      ],
      "metadata": {
        "id": "cSyRPxK_JwCr"
      }
    },
    {
      "cell_type": "code",
      "source": [
        "multiply.invoke(op)"
      ],
      "metadata": {
        "colab": {
          "base_uri": "https://localhost:8080/"
        },
        "id": "cMI1sIBUJyO7",
        "outputId": "d8727c75-b3de-4404-9606-85d932734c6d"
      },
      "execution_count": 70,
      "outputs": [
        {
          "output_type": "execute_result",
          "data": {
            "text/plain": [
              "12"
            ]
          },
          "metadata": {},
          "execution_count": 70
        }
      ]
    }
  ]
}