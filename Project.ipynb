{
  "nbformat": 4,
  "nbformat_minor": 0,
  "metadata": {
    "colab": {
      "provenance": [],
      "authorship_tag": "ABX9TyOhg1NjZUdLC0hvT4NfDVAx"
    },
    "kernelspec": {
      "name": "python3",
      "display_name": "Python 3"
    },
    "language_info": {
      "name": "python"
    }
  },
  "cells": [
    {
      "cell_type": "markdown",
      "source": [
        "AI Based Currency Converter"
      ],
      "metadata": {
        "id": "C-eEhXh-fxiB"
      }
    },
    {
      "cell_type": "code",
      "source": [
        "pip install -q langchain-core langchain-groq requests python-dotenv"
      ],
      "metadata": {
        "id": "w0c9COBgipqO",
        "colab": {
          "base_uri": "https://localhost:8080/"
        },
        "outputId": "45fa8318-d2fc-4774-97fc-2c4392a5bd02"
      },
      "execution_count": 2,
      "outputs": [
        {
          "output_type": "stream",
          "name": "stdout",
          "text": [
            "\u001b[?25l   \u001b[90m━━━━━━━━━━━━━━━━━━━━━━━━━━━━━━━━━━━━━━━━\u001b[0m \u001b[32m0.0/134.9 kB\u001b[0m \u001b[31m?\u001b[0m eta \u001b[36m-:--:--\u001b[0m\r\u001b[2K   \u001b[90m━━━━━━━━━━━━━━━━━━━━━━━━━━━━━━━━━━━━━━━━\u001b[0m \u001b[32m134.9/134.9 kB\u001b[0m \u001b[31m3.9 MB/s\u001b[0m eta \u001b[36m0:00:00\u001b[0m\n",
            "\u001b[?25h"
          ]
        }
      ]
    },
    {
      "cell_type": "code",
      "source": [
        "import os\n",
        "from langchain_groq import ChatGroq\n",
        "from langchain_core.tools import tool\n",
        "from langchain_core.messages import HumanMessage\n",
        "import requests"
      ],
      "metadata": {
        "id": "C1vuL03i9DXF"
      },
      "execution_count": 3,
      "outputs": []
    },
    {
      "cell_type": "markdown",
      "source": [
        "Building Tool"
      ],
      "metadata": {
        "id": "FDsIfR7mHrSt"
      }
    },
    {
      "cell_type": "code",
      "metadata": {
        "id": "0eefb5b8"
      },
      "source": [
        "from langchain_core.tools import InjectedToolArg\n",
        "from typing import Annotated\n",
        "\n",
        "@tool\n",
        "def get_conversion_factor(base_currency: str, target_currency: str) -> str:\n",
        "    \"\"\"This tool returns the conversion factor from base currency to target currency\"\"\"\n",
        "\n",
        "    # Get the API key from Colab secrets\n",
        "    from google.colab import userdata\n",
        "    api_key = userdata.get(\"EXCHANGE_RATE_API_KEY\")\n",
        "\n",
        "    url = f'https://v6.exchangerate-api.com/v6/{api_key}/latest/{base_currency}'\n",
        "\n",
        "    try:\n",
        "        response = requests.get(url)\n",
        "        response.raise_for_status()  # Raise an exception for bad status codes (4xx or 5xx)\n",
        "        data = response.json()\n",
        "        # Check if the target currency exists in the conversion rates\n",
        "        if target_currency in data.get('conversion_rates', {}):\n",
        "            return data['conversion_rates'][target_currency]\n",
        "        else:\n",
        "            print(f\"Error: Target currency '{target_currency}' not found in conversion rates.\")\n",
        "            print(f\"API Response: {response.text}\")\n",
        "            return None\n",
        "    except requests.exceptions.RequestException as e:\n",
        "        print(f\"Error fetching conversion rate: {e}\")\n",
        "        print(f\"API Response (if available): {response.text if 'response' in locals() else 'N/A'}\")\n",
        "        return None\n",
        "    except ValueError as e:\n",
        "        print(f\"Error decoding JSON response: {e}\")\n",
        "        print(f\"API Response: {response.text}\")\n",
        "        return None\n",
        "\n",
        "@tool\n",
        "def convert(base_currency_valu: int, conversion_rate: Annotated[float, InjectedToolArg]) -> float:\n",
        "    \"\"\"This tool converts the base currency value to target currency\"\"\"\n",
        "    return base_currency_valu * conversion_rate"
      ],
      "execution_count": 4,
      "outputs": []
    },
    {
      "cell_type": "markdown",
      "source": [
        "Tool Binding"
      ],
      "metadata": {
        "id": "N7MC8tBxui7q"
      }
    },
    {
      "cell_type": "code",
      "source": [
        "from google.colab import userdata\n",
        "\n",
        "llm = ChatGroq(\n",
        "    api_key=userdata.get(\"GROQ_API_KEY\"),\n",
        "    model=\"llama-3.1-8b-instant\"\n",
        ")"
      ],
      "metadata": {
        "id": "JSnVrz-Cue5D"
      },
      "execution_count": 5,
      "outputs": []
    },
    {
      "cell_type": "code",
      "source": [
        "llm_with_tools = llm.bind_tools([get_conversion_factor, convert])"
      ],
      "metadata": {
        "id": "cXLlHayAvfpD"
      },
      "execution_count": 6,
      "outputs": []
    },
    {
      "cell_type": "code",
      "source": [
        "messages = [HumanMessage(\"What is the conversion factor between USD and INR, and based on that can you convert 10 usd to inr\")]"
      ],
      "metadata": {
        "id": "kR6bHRrMv2a5"
      },
      "execution_count": 7,
      "outputs": []
    },
    {
      "cell_type": "code",
      "source": [
        "ai_message = llm_with_tools.invoke(messages)"
      ],
      "metadata": {
        "id": "RmNl4iAowR5P"
      },
      "execution_count": 90,
      "outputs": []
    },
    {
      "cell_type": "code",
      "source": [
        "messages.append(ai_message)"
      ],
      "metadata": {
        "id": "wJi2weNe3Lp0"
      },
      "execution_count": 91,
      "outputs": []
    },
    {
      "cell_type": "code",
      "source": [
        "ai_message.tool_calls"
      ],
      "metadata": {
        "colab": {
          "base_uri": "https://localhost:8080/"
        },
        "id": "S3GpxSVowajL",
        "outputId": "60bcc1ed-988f-4d1a-b20f-0a6111011c84"
      },
      "execution_count": 92,
      "outputs": [
        {
          "output_type": "execute_result",
          "data": {
            "text/plain": [
              "[{'name': 'get_conversion_factor',\n",
              "  'args': {'base_currency': 'USD', 'target_currency': 'INR'},\n",
              "  'id': 'rednfdmdn',\n",
              "  'type': 'tool_call'},\n",
              " {'name': 'get_conversion_factor',\n",
              "  'args': {'base_currency': 'USD', 'target_currency': 'INR'},\n",
              "  'id': 'sj31cb9by',\n",
              "  'type': 'tool_call'},\n",
              " {'name': 'convert',\n",
              "  'args': {'base_currency': 'USD',\n",
              "   'base_currency_valu': 10,\n",
              "   'target_currency': 'INR'},\n",
              "  'id': 'ad8n8g0nz',\n",
              "  'type': 'tool_call'}]"
            ]
          },
          "metadata": {},
          "execution_count": 92
        }
      ]
    },
    {
      "cell_type": "code",
      "source": [
        "import json\n",
        "from langchain_core.messages import ToolMessage\n",
        "\n",
        "for tool_call in ai_message.tool_calls:\n",
        "\n",
        "    # execute the 1st tool and get the value of conversion rate\n",
        "    if tool_call['name'] == 'get_conversion_factor':\n",
        "        tool_message1 = get_conversion_factor.invoke(tool_call)  # already returns float\n",
        "        conversion_rate = tool_message1.content  # use float directly\n",
        "        messages.append(tool_message1)\n",
        "\n",
        "    # execute the 2nd tool using the conversion rate from tool 1\n",
        "    if tool_call['name'] == 'convert':\n",
        "        tool_call['args']['conversion_rate'] = conversion_rate\n",
        "        tool_message2 = convert.invoke(tool_call)\n",
        "        messages.append(tool_message2)"
      ],
      "metadata": {
        "id": "lELJnOOzyxY8"
      },
      "execution_count": 101,
      "outputs": []
    },
    {
      "cell_type": "code",
      "source": [
        "messages"
      ],
      "metadata": {
        "colab": {
          "base_uri": "https://localhost:8080/"
        },
        "id": "lApg9-QO2L4x",
        "outputId": "388373df-2182-4d57-9345-ae7d01e92714"
      },
      "execution_count": 102,
      "outputs": [
        {
          "output_type": "execute_result",
          "data": {
            "text/plain": [
              "[HumanMessage(content='What is the conversion factor between USD and INR, and based on that can you convert 10 usd to inr', additional_kwargs={}, response_metadata={}),\n",
              " AIMessage(content='', additional_kwargs={'tool_calls': [{'id': 'rednfdmdn', 'function': {'arguments': '{\"base_currency\":\"USD\",\"target_currency\":\"INR\"}', 'name': 'get_conversion_factor'}, 'type': 'function'}, {'id': 'sj31cb9by', 'function': {'arguments': '{\"base_currency\":\"USD\",\"target_currency\":\"INR\"}', 'name': 'get_conversion_factor'}, 'type': 'function'}, {'id': 'ad8n8g0nz', 'function': {'arguments': '{\"base_currency\":\"USD\",\"base_currency_valu\":10,\"target_currency\":\"INR\"}', 'name': 'convert'}, 'type': 'function'}]}, response_metadata={'token_usage': {'completion_tokens': 81, 'prompt_tokens': 326, 'total_tokens': 407, 'completion_time': 0.093072801, 'prompt_time': 0.076347381, 'queue_time': 1.130860113, 'total_time': 0.169420182}, 'model_name': 'llama-3.1-8b-instant', 'system_fingerprint': 'fp_55d70a61e4', 'service_tier': 'on_demand', 'finish_reason': 'tool_calls', 'logprobs': None}, id='run--da06f095-4462-49af-92a5-4e3d019cd2c5-0', tool_calls=[{'name': 'get_conversion_factor', 'args': {'base_currency': 'USD', 'target_currency': 'INR'}, 'id': 'rednfdmdn', 'type': 'tool_call'}, {'name': 'get_conversion_factor', 'args': {'base_currency': 'USD', 'target_currency': 'INR'}, 'id': 'sj31cb9by', 'type': 'tool_call'}, {'name': 'convert', 'args': {'base_currency': 'USD', 'base_currency_valu': 10, 'target_currency': 'INR', 'conversion_rate': '88.2133'}, 'id': 'ad8n8g0nz', 'type': 'tool_call'}], usage_metadata={'input_tokens': 326, 'output_tokens': 81, 'total_tokens': 407}),\n",
              " ToolMessage(content='88.2133', tool_call_id='rednfdmdn'),\n",
              " ToolMessage(content='88.2133', tool_call_id='sj31cb9by'),\n",
              " ToolMessage(content='88.2133', tool_call_id='rednfdmdn'),\n",
              " ToolMessage(content='88.2133', tool_call_id='sj31cb9by'),\n",
              " ToolMessage(content='88.2133', name='get_conversion_factor', tool_call_id='rednfdmdn'),\n",
              " ToolMessage(content='88.2133', name='get_conversion_factor', tool_call_id='sj31cb9by'),\n",
              " ToolMessage(content='882.133', name='convert', tool_call_id='ad8n8g0nz')]"
            ]
          },
          "metadata": {},
          "execution_count": 102
        }
      ]
    },
    {
      "cell_type": "code",
      "source": [
        "llm_with_tools.invoke(messages).content"
      ],
      "metadata": {
        "colab": {
          "base_uri": "https://localhost:8080/",
          "height": 35
        },
        "id": "SkUPHnTA23Mi",
        "outputId": "16d5971d-15f1-4fe0-da73-26ce3f3fb0e4"
      },
      "execution_count": 104,
      "outputs": [
        {
          "output_type": "execute_result",
          "data": {
            "text/plain": [
              "'The conversion factor between USD and INR is 88.2133. \\nBased on that, 10 USD can be converted to 882.133 INR.'"
            ],
            "application/vnd.google.colaboratory.intrinsic+json": {
              "type": "string"
            }
          },
          "metadata": {},
          "execution_count": 104
        }
      ]
    }
  ]
}