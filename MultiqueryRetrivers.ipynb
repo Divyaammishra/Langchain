{
  "nbformat": 4,
  "nbformat_minor": 0,
  "metadata": {
    "colab": {
      "provenance": [],
      "authorship_tag": "ABX9TyNymXmDE/24dZ/snrpG2+yZ"
    },
    "kernelspec": {
      "name": "python3",
      "display_name": "Python 3"
    },
    "language_info": {
      "name": "python"
    }
  },
  "cells": [
    {
      "cell_type": "markdown",
      "source": [
        "Maximum Marginal Retrivers (MMR)"
      ],
      "metadata": {
        "id": "iC8M2hYglcPF"
      }
    },
    {
      "cell_type": "code",
      "source": [
        "from google.colab import userdata\n",
        "import os\n",
        "\n",
        "os.environ[\"GROQ_API_KEY\"] = userdata.get('GROQ_API_KEY')"
      ],
      "metadata": {
        "id": "T1plHuDt1Gat"
      },
      "execution_count": 9,
      "outputs": []
    },
    {
      "cell_type": "code",
      "source": [
        "pip install langchain-community langchain-huggingface faiss-cpu langchain-groq"
      ],
      "metadata": {
        "id": "ATGo4RQPmlWr"
      },
      "execution_count": null,
      "outputs": []
    },
    {
      "cell_type": "code",
      "source": [
        "from langchain_community.vectorstores import FAISS\n",
        "from langchain_huggingface import HuggingFaceEmbeddings\n",
        "from langchain_groq import ChatGroq\n",
        "from langchain.retrievers import MultiQueryRetriever\n",
        "from langchain_core.documents import Document\n",
        "import os"
      ],
      "metadata": {
        "id": "gHDZ376XlVDc"
      },
      "execution_count": 3,
      "outputs": []
    },
    {
      "cell_type": "code",
      "source": [
        "AllDocs = [\n",
        "    Document(page_content=\"Regular walking boosts heart health and can reduce symptoms of depression\", metadata={\"source\": \"H1\"}),\n",
        "    Document(page_content=\"Consuming leafy greens and fruits helps detox the body and improve longetivity\", metadata={\"source\": \"H2\"}),\n",
        "    Document(page_content=\"Deep sleep is crucial for cellular repair and emotional regulations\", metadata={\"source\": \"H3\"}),\n",
        "    Document(page_content=\"Mindfulness and controlled breathing lower cortisol and improve mental clarity\", metadata={\"source\": \"H4\"}),\n",
        "    Document(page_content=\"Drinking sufficient waater throughout the day helps maintain metabolism and energy\", metadata={\"source\": \"H5\"}),\n",
        "    Document(page_content=\"The solar energy system is modern homes helps balances electricity demand\", metadata={\"source\": \"I1\"}),\n",
        "    Document(page_content=\"Python balancers readability with proper, making it a popular system design language\", metadata={\"source\": \"I2\"}),\n",
        "    Document(page_content=\"Photosynthesis enables plants to produce energy by converting sunlight\", metadata={\"source\": \"I3\"}),\n",
        "    Document(page_content=\"The 2022 FIFA world cup was held in Qatar and drew global energy and excitement\", metadata={\"source\": \"I4\"}),\n",
        "    Document(page_content=\"Black holes bend spacetime and store immense gravitational energy\", metadata={\"source\": \"I5\"})\n",
        "]"
      ],
      "metadata": {
        "id": "Qv-2s7I1vYK-"
      },
      "execution_count": 4,
      "outputs": []
    },
    {
      "cell_type": "code",
      "source": [
        "EmbeddingModels= HuggingFaceEmbeddings(model_name=\"sentence-transformers/all-MiniLM-L6-v2\")\n",
        "\n",
        "vectorstores = FAISS.from_documents(\n",
        "    documents= AllDocs,\n",
        "    embedding= EmbeddingModels\n",
        "    )"
      ],
      "metadata": {
        "id": "tHeGzaw00Lk4"
      },
      "execution_count": null,
      "outputs": []
    },
    {
      "cell_type": "code",
      "source": [
        "similarity_retrivers = vectorstores.as_retriever(search_type=\"similarity\", search_kwargs={\"k\": 5})"
      ],
      "metadata": {
        "id": "Mp2xfCq21F0r"
      },
      "execution_count": 6,
      "outputs": []
    },
    {
      "cell_type": "code",
      "source": [
        "multiquery_retriever = MultiQueryRetriever.from_llm(\n",
        "    retriever= vectorstores.as_retriever(search_kwargs={\"k\":5}),\n",
        "    llm= ChatGroq(\n",
        "        api_key=os.getenv(\"GROQ_API_KEY\"),\n",
        "        model=\"llama-3.1-8b-instant\"\n",
        "    ),\n",
        "    )"
      ],
      "metadata": {
        "id": "O7yAu5Le1Tiy"
      },
      "execution_count": 13,
      "outputs": []
    },
    {
      "cell_type": "code",
      "source": [
        "query = 'How to improve energy level and improve balance'"
      ],
      "metadata": {
        "id": "u3u97pyL1hxy"
      },
      "execution_count": 14,
      "outputs": []
    },
    {
      "cell_type": "code",
      "source": [
        "similarity_result = similarity_retrivers.invoke(query)\n",
        "multiquery_result = multiquery_retriever.invoke(query)"
      ],
      "metadata": {
        "id": "0ngeB_le1qki"
      },
      "execution_count": 15,
      "outputs": []
    },
    {
      "cell_type": "code",
      "source": [
        "for i, doc in enumerate(similarity_result):\n",
        "  print(f\"\\n--- Result {i+1} ---\")\n",
        "  print(doc.page_content)\n",
        "\n",
        "print(\"*\"*150)\n",
        "\n",
        "for i, doc in enumerate(multiquery_result):\n",
        "  print(f\"\\n--- Result {i+1} ---\")\n",
        "  print(doc.page_content)\n"
      ],
      "metadata": {
        "id": "IT5e7CMO18Kb"
      },
      "execution_count": null,
      "outputs": []
    }
  ]
}